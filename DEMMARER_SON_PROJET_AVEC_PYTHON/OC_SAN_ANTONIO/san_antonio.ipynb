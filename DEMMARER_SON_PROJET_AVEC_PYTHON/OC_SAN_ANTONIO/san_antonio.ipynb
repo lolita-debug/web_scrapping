{
 "cells": [
  {
   "cell_type": "code",
   "execution_count": 1,
   "metadata": {},
   "outputs": [],
   "source": [
    "quotes = [\"Ecoutez-moi, Monsieur Shakespeare, nous avons beau être ou ne pas être, nous sommes !\", \"On doit pouvoir choisir entre s'écouter parler et se faire entendre.\"]\n",
    "\n",
    "def get_random_item_in(my_list):\n",
    "    # TODO: get a random item\n",
    "    my_list[0] # get an item from a list. For the moment, just get the first one.\n",
    "    # TODO: show the quote\n",
    "\n",
    "get_random_item_in(quotes)"
   ]
  },
  {
   "cell_type": "code",
   "execution_count": 2,
   "metadata": {},
   "outputs": [
    {
     "name": "stdout",
     "output_type": "stream",
     "text": [
      "Ecoutez-moi, Monsieur Shakespeare, nous avons beau être ou ne pas être, nous sommes !\n",
      "program is over\n"
     ]
    }
   ],
   "source": [
    "def get_random_item_in(my_list):\n",
    "    # TODO: get a random number\n",
    "    item = my_list[0] # get a quote from a list\n",
    "    print(item) # show the quote in the interpreter\n",
    "    return \"program is over\" # returned value\n",
    "\n",
    "\n",
    "print(get_random_item_in(quotes))"
   ]
  },
  {
   "cell_type": "code",
   "execution_count": null,
   "metadata": {},
   "outputs": [],
   "source": []
  },
  {
   "cell_type": "markdown",
   "metadata": {},
   "source": [
    "# Attention c'est une boucle sans fin !\n",
    "quotes = [\"Ecoutez-moi, Monsieur Shakespeare, nous avons beau être ou ne pas être, nous sommes !\", \"On doit pouvoir choisir entre s'écouter parler et se faire entendre.\"]\n",
    "\n",
    "characters = [\"alvin et les Chipmunks\", \"Babar\", \"betty boop\", \"calimero\", \"casper\", \"le chat potté\", \"Kirikou\"]\n",
    "\n",
    "def get_random_item_in(my_list):\n",
    "    # get a random number\n",
    "    item = my_list[0] # get a quote from a list\n",
    "    return item # return the item\n",
    "\n",
    "user_answer = \"A\"\n",
    "\n",
    "while user_answer != \"B\":\n",
    "    print(get_random_item_in(quotes))"
   ]
  },
  {
   "cell_type": "code",
   "execution_count": 3,
   "metadata": {},
   "outputs": [
    {
     "name": "stdout",
     "output_type": "stream",
     "text": [
      "Ecoutez-moi, Monsieur Shakespeare, nous avons beau être ou ne pas être, nous sommes !\n"
     ]
    }
   ],
   "source": [
    "quotes = [\"Ecoutez-moi, Monsieur Shakespeare, nous avons beau être ou ne pas être, nous sommes !\", \"On doit pouvoir choisir entre s'écouter parler et se faire entendre.\"] \n",
    "characters = [\"alvin et les Chipmunks\", \"Babar\", \"betty boop\", \"calimero\", \"casper\", \"le chat potté\", \"Kirikou\"]\n",
    "\n",
    "def get_random_item_in(my_list):\n",
    "    # get a random number\n",
    "    item = my_list[0] # get a quote from a list\n",
    "    return item # return the item\n",
    "\n",
    "user_answer = \"A\"\n",
    "\n",
    "while user_answer != \"B\":\n",
    "    print(get_random_item_in(quotes))\n",
    "    user_answer = \"B\""
   ]
  },
  {
   "cell_type": "code",
   "execution_count": 4,
   "metadata": {},
   "outputs": [],
   "source": [
    "for quote in quotes:\n",
    "    quote.capitalize()"
   ]
  },
  {
   "cell_type": "markdown",
   "metadata": {},
   "source": [
    "## format"
   ]
  },
  {
   "cell_type": "code",
   "execution_count": 5,
   "metadata": {},
   "outputs": [
    {
     "data": {
      "text/plain": [
       "\"Babar a dit : Tout n'est pas cirrhose dans la vie, comme dit l'alcoolique.\""
      ]
     },
     "execution_count": 5,
     "metadata": {},
     "output_type": "execute_result"
    }
   ],
   "source": [
    "\"{character} a dit : {quote}\".format(character=\"Babar\", quote=\"Tout n'est pas cirrhose dans la vie, comme dit l'alcoolique.\")"
   ]
  },
  {
   "cell_type": "code",
   "execution_count": 6,
   "metadata": {},
   "outputs": [
    {
     "data": {
      "text/plain": [
       "\"Babar a dit : Tout n'est pas cirrhose dans la vie, comme dit l'alcoolique.\""
      ]
     },
     "execution_count": 6,
     "metadata": {},
     "output_type": "execute_result"
    }
   ],
   "source": [
    "\"{} a dit : {}\".format(\"Babar\", \"Tout n'est pas cirrhose dans la vie, comme dit l'alcoolique.\")"
   ]
  },
  {
   "cell_type": "code",
   "execution_count": 7,
   "metadata": {},
   "outputs": [
    {
     "data": {
      "text/plain": [
       "' \" je dis ça\"'"
      ]
     },
     "execution_count": 7,
     "metadata": {},
     "output_type": "execute_result"
    }
   ],
   "source": [
    " \" \\\" je dis ça\\\"\""
   ]
  },
  {
   "cell_type": "code",
   "execution_count": 8,
   "metadata": {},
   "outputs": [
    {
     "ename": "FileNotFoundError",
     "evalue": "[Errno 2] No such file or directory: 'quotes.json'",
     "output_type": "error",
     "traceback": [
      "\u001b[1;31m---------------------------------------------------------------------------\u001b[0m",
      "\u001b[1;31mFileNotFoundError\u001b[0m                         Traceback (most recent call last)",
      "\u001b[1;32m<ipython-input-8-f6cabb1f1f3a>\u001b[0m in \u001b[0;36m<module>\u001b[1;34m\u001b[0m\n\u001b[0;32m     76\u001b[0m \u001b[1;33m\u001b[0m\u001b[0m\n\u001b[0;32m     77\u001b[0m \u001b[1;32mif\u001b[0m \u001b[0m__name__\u001b[0m \u001b[1;33m==\u001b[0m \u001b[1;34m'__main__'\u001b[0m\u001b[1;33m:\u001b[0m\u001b[1;33m\u001b[0m\u001b[1;33m\u001b[0m\u001b[0m\n\u001b[1;32m---> 78\u001b[1;33m     \u001b[0mmain_loop\u001b[0m\u001b[1;33m(\u001b[0m\u001b[1;33m)\u001b[0m\u001b[1;33m\u001b[0m\u001b[1;33m\u001b[0m\u001b[0m\n\u001b[0m",
      "\u001b[1;32m<ipython-input-8-f6cabb1f1f3a>\u001b[0m in \u001b[0;36mmain_loop\u001b[1;34m()\u001b[0m\n\u001b[0;32m     67\u001b[0m \u001b[1;32mdef\u001b[0m \u001b[0mmain_loop\u001b[0m\u001b[1;33m(\u001b[0m\u001b[1;33m)\u001b[0m\u001b[1;33m:\u001b[0m\u001b[1;33m\u001b[0m\u001b[1;33m\u001b[0m\u001b[0m\n\u001b[0;32m     68\u001b[0m     \u001b[1;32mwhile\u001b[0m \u001b[1;32mTrue\u001b[0m\u001b[1;33m:\u001b[0m\u001b[1;33m\u001b[0m\u001b[1;33m\u001b[0m\u001b[0m\n\u001b[1;32m---> 69\u001b[1;33m         \u001b[0mprint_random_sentence\u001b[0m\u001b[1;33m(\u001b[0m\u001b[1;33m)\u001b[0m\u001b[1;33m\u001b[0m\u001b[1;33m\u001b[0m\u001b[0m\n\u001b[0m\u001b[0;32m     70\u001b[0m         message = ('Voulez-vous voir une autre citation ?'\n\u001b[0;32m     71\u001b[0m                    'Pour sortir du programme, tapez [B].')\n",
      "\u001b[1;32m<ipython-input-8-f6cabb1f1f3a>\u001b[0m in \u001b[0;36mprint_random_sentence\u001b[1;34m()\u001b[0m\n\u001b[0;32m     61\u001b[0m \u001b[1;33m\u001b[0m\u001b[0m\n\u001b[0;32m     62\u001b[0m \u001b[1;32mdef\u001b[0m \u001b[0mprint_random_sentence\u001b[0m\u001b[1;33m(\u001b[0m\u001b[1;33m)\u001b[0m\u001b[1;33m:\u001b[0m\u001b[1;33m\u001b[0m\u001b[1;33m\u001b[0m\u001b[0m\n\u001b[1;32m---> 63\u001b[1;33m     \u001b[0mrand_quote\u001b[0m \u001b[1;33m=\u001b[0m \u001b[0mrandom_quote\u001b[0m\u001b[1;33m(\u001b[0m\u001b[1;33m)\u001b[0m\u001b[1;33m\u001b[0m\u001b[1;33m\u001b[0m\u001b[0m\n\u001b[0m\u001b[0;32m     64\u001b[0m     \u001b[0mrand_character\u001b[0m \u001b[1;33m=\u001b[0m \u001b[0mrandom_character\u001b[0m\u001b[1;33m(\u001b[0m\u001b[1;33m)\u001b[0m\u001b[1;33m\u001b[0m\u001b[1;33m\u001b[0m\u001b[0m\n\u001b[0;32m     65\u001b[0m     \u001b[0mprint\u001b[0m\u001b[1;33m(\u001b[0m\u001b[1;34m\">>>> {} a dit : {}\"\u001b[0m\u001b[1;33m.\u001b[0m\u001b[0mformat\u001b[0m\u001b[1;33m(\u001b[0m\u001b[0mrand_character\u001b[0m\u001b[1;33m,\u001b[0m \u001b[0mrand_quote\u001b[0m\u001b[1;33m)\u001b[0m\u001b[1;33m)\u001b[0m\u001b[1;33m\u001b[0m\u001b[1;33m\u001b[0m\u001b[0m\n",
      "\u001b[1;32m<ipython-input-8-f6cabb1f1f3a>\u001b[0m in \u001b[0;36mrandom_quote\u001b[1;34m()\u001b[0m\n\u001b[0;32m     42\u001b[0m \u001b[1;33m\u001b[0m\u001b[0m\n\u001b[0;32m     43\u001b[0m \u001b[1;32mdef\u001b[0m \u001b[0mrandom_quote\u001b[0m\u001b[1;33m(\u001b[0m\u001b[1;33m)\u001b[0m\u001b[1;33m:\u001b[0m\u001b[1;33m\u001b[0m\u001b[1;33m\u001b[0m\u001b[0m\n\u001b[1;32m---> 44\u001b[1;33m     \u001b[1;32mreturn\u001b[0m \u001b[0mrandom_value\u001b[0m\u001b[1;33m(\u001b[0m\u001b[1;34m'quotes.json'\u001b[0m\u001b[1;33m,\u001b[0m \u001b[1;34m'quote'\u001b[0m\u001b[1;33m)\u001b[0m\u001b[1;33m\u001b[0m\u001b[1;33m\u001b[0m\u001b[0m\n\u001b[0m\u001b[0;32m     45\u001b[0m \u001b[1;33m\u001b[0m\u001b[0m\n\u001b[0;32m     46\u001b[0m \u001b[1;31m######################\u001b[0m\u001b[1;33m\u001b[0m\u001b[1;33m\u001b[0m\u001b[1;33m\u001b[0m\u001b[0m\n",
      "\u001b[1;32m<ipython-input-8-f6cabb1f1f3a>\u001b[0m in \u001b[0;36mrandom_value\u001b[1;34m(source_path, key)\u001b[0m\n\u001b[0;32m     30\u001b[0m \u001b[1;31m# Return a random value from a json file\u001b[0m\u001b[1;33m\u001b[0m\u001b[1;33m\u001b[0m\u001b[1;33m\u001b[0m\u001b[0m\n\u001b[0;32m     31\u001b[0m \u001b[1;32mdef\u001b[0m \u001b[0mrandom_value\u001b[0m\u001b[1;33m(\u001b[0m\u001b[0msource_path\u001b[0m\u001b[1;33m,\u001b[0m \u001b[0mkey\u001b[0m\u001b[1;33m)\u001b[0m\u001b[1;33m:\u001b[0m\u001b[1;33m\u001b[0m\u001b[1;33m\u001b[0m\u001b[0m\n\u001b[1;32m---> 32\u001b[1;33m     \u001b[0mall_values\u001b[0m \u001b[1;33m=\u001b[0m \u001b[0mread_values_from_json\u001b[0m\u001b[1;33m(\u001b[0m\u001b[0msource_path\u001b[0m\u001b[1;33m,\u001b[0m \u001b[0mkey\u001b[0m\u001b[1;33m)\u001b[0m\u001b[1;33m\u001b[0m\u001b[1;33m\u001b[0m\u001b[0m\n\u001b[0m\u001b[0;32m     33\u001b[0m     \u001b[0mclean_values\u001b[0m \u001b[1;33m=\u001b[0m \u001b[0mclean_strings\u001b[0m\u001b[1;33m(\u001b[0m\u001b[0mall_values\u001b[0m\u001b[1;33m)\u001b[0m\u001b[1;33m\u001b[0m\u001b[1;33m\u001b[0m\u001b[0m\n\u001b[0;32m     34\u001b[0m     \u001b[1;32mreturn\u001b[0m \u001b[0mrandom_item_in\u001b[0m\u001b[1;33m(\u001b[0m\u001b[0mclean_values\u001b[0m\u001b[1;33m)\u001b[0m\u001b[1;33m\u001b[0m\u001b[1;33m\u001b[0m\u001b[0m\n",
      "\u001b[1;32m<ipython-input-8-f6cabb1f1f3a>\u001b[0m in \u001b[0;36mread_values_from_json\u001b[1;34m(path, key)\u001b[0m\n\u001b[0;32m      6\u001b[0m \u001b[1;32mdef\u001b[0m \u001b[0mread_values_from_json\u001b[0m\u001b[1;33m(\u001b[0m\u001b[0mpath\u001b[0m\u001b[1;33m,\u001b[0m \u001b[0mkey\u001b[0m\u001b[1;33m)\u001b[0m\u001b[1;33m:\u001b[0m\u001b[1;33m\u001b[0m\u001b[1;33m\u001b[0m\u001b[0m\n\u001b[0;32m      7\u001b[0m     \u001b[0mvalues\u001b[0m \u001b[1;33m=\u001b[0m \u001b[1;33m[\u001b[0m\u001b[1;33m]\u001b[0m\u001b[1;33m\u001b[0m\u001b[1;33m\u001b[0m\u001b[0m\n\u001b[1;32m----> 8\u001b[1;33m     \u001b[1;32mwith\u001b[0m \u001b[0mopen\u001b[0m\u001b[1;33m(\u001b[0m\u001b[0mpath\u001b[0m\u001b[1;33m)\u001b[0m \u001b[1;32mas\u001b[0m \u001b[0mf\u001b[0m\u001b[1;33m:\u001b[0m\u001b[1;33m\u001b[0m\u001b[1;33m\u001b[0m\u001b[0m\n\u001b[0m\u001b[0;32m      9\u001b[0m         \u001b[0mdata\u001b[0m \u001b[1;33m=\u001b[0m \u001b[0mjson\u001b[0m\u001b[1;33m.\u001b[0m\u001b[0mload\u001b[0m\u001b[1;33m(\u001b[0m\u001b[0mf\u001b[0m\u001b[1;33m)\u001b[0m\u001b[1;33m\u001b[0m\u001b[1;33m\u001b[0m\u001b[0m\n\u001b[0;32m     10\u001b[0m         \u001b[1;32mfor\u001b[0m \u001b[0mentry\u001b[0m \u001b[1;32min\u001b[0m \u001b[0mdata\u001b[0m\u001b[1;33m:\u001b[0m\u001b[1;33m\u001b[0m\u001b[1;33m\u001b[0m\u001b[0m\n",
      "\u001b[1;31mFileNotFoundError\u001b[0m: [Errno 2] No such file or directory: 'quotes.json'"
     ]
    }
   ],
   "source": [
    "# -*- coding: utf8 -*-\n",
    "import json\n",
    "import random\n",
    "\n",
    "# Give a Json file and return a List\n",
    "def read_values_from_json(path, key):\n",
    "    values = []\n",
    "    with open(path) as f:\n",
    "        data = json.load(f)\n",
    "        for entry in data:\n",
    "            values.append(entry[key])\n",
    "        return values\n",
    "\n",
    "# Give a json and return a list\n",
    "def clean_strings(sentences):\n",
    "    cleaned = []\n",
    "    # Store quotes on a list. Create an empty list and add each sentence one by one.\n",
    "    for sentence in sentences:\n",
    "        # Clean quotes from whitespace and so on\n",
    "        clean_sentence = sentence.strip()\n",
    "        # don't use extend as it adds each letter one by one!\n",
    "        cleaned.append(clean_sentence)\n",
    "    return cleaned\n",
    "\n",
    "# Return a random item in a list\n",
    "def random_item_in(object_list):\n",
    "    rand_numb = random.randint(0, len(object_list) - 1)\n",
    "    return object_list[rand_numb]\n",
    "\n",
    "# Return a random value from a json file\n",
    "def random_value(source_path, key):\n",
    "    all_values = read_values_from_json(source_path, key)\n",
    "    clean_values = clean_strings(all_values)\n",
    "    return random_item_in(clean_values)\n",
    "\n",
    "\n",
    "#####################\n",
    "###### QUOTES #######\n",
    "#####################\n",
    "\n",
    "# Gather quotes from San Antonio\n",
    "\n",
    "def random_quote():\n",
    "    return random_value('quotes.json', 'quote')\n",
    "\n",
    "######################\n",
    "#### CHARACTERS ######\n",
    "######################\n",
    "\n",
    "# Gather characters from Wikipedia\n",
    "\n",
    "def random_character():\n",
    "    return random_value('characters.json', 'character')\n",
    "\n",
    "\n",
    "######################\n",
    "#### INTERACTION ######\n",
    "######################\n",
    "\n",
    "# Print a random sentence.\n",
    "\n",
    "def print_random_sentence():\n",
    "    rand_quote = random_quote()\n",
    "    rand_character = random_character()\n",
    "    print(\">>>> {} a dit : {}\".format(rand_character, rand_quote))\n",
    "\n",
    "def main_loop():\n",
    "    while True:\n",
    "        print_random_sentence()\n",
    "        message = ('Voulez-vous voir une autre citation ?'\n",
    "                   'Pour sortir du programme, tapez [B].')\n",
    "        choice = input(message).upper()\n",
    "        if choice == 'B':\n",
    "            break\n",
    "            # This will stop the loop!\n",
    "\n",
    "if __name__ == '__main__':\n",
    "    main_loop()"
   ]
  },
  {
   "cell_type": "code",
   "execution_count": 24,
   "metadata": {},
   "outputs": [],
   "source": [
    "import scrapy\n",
    "from scrapy.selector import Selector\n",
    "\n",
    "class BlogSpider(scrapy.Spider):\n",
    "    name = 'blogspider'\n",
    "    start_urls = ['http://www.babelio.com/auteur/Frederic-Dard/7187/citations']\n",
    "\n",
    "    def parse(self, response):\n",
    "        for title in response.css('div.post_con div.text.row div'):\n",
    "            yield {'quote': title.css('div ::text').extract_first()}\n",
    "\n",
    "        next_pages = response.css('div.pagination.row > a').extract()\n",
    "        for index, page in enumerate(next_pages):\n",
    "            if 'class=\"active\"' in page:\n",
    "                n_page = next_pages[index + 1]\n",
    "                next_page = Selector(text=n_page).xpath('//a/@href').extract()\n",
    "                next_page_url = next_page[0]\n",
    "                if index == (len(next_pages) - 1):\n",
    "                    next_page = False\n",
    "\n",
    "        if next_page:\n",
    "            yield scrapy.Request(response.urljoin(next_page_url), callback=self.parse)"
   ]
  }
 ],
 "metadata": {
  "kernelspec": {
   "display_name": "Python 3",
   "language": "python",
   "name": "python3"
  },
  "language_info": {
   "codemirror_mode": {
    "name": "ipython",
    "version": 3
   },
   "file_extension": ".py",
   "mimetype": "text/x-python",
   "name": "python",
   "nbconvert_exporter": "python",
   "pygments_lexer": "ipython3",
   "version": "3.8.8"
  },
  "toc": {
   "base_numbering": 1,
   "nav_menu": {},
   "number_sections": true,
   "sideBar": true,
   "skip_h1_title": false,
   "title_cell": "Table of Contents",
   "title_sidebar": "Contents",
   "toc_cell": false,
   "toc_position": {},
   "toc_section_display": true,
   "toc_window_display": true
  }
 },
 "nbformat": 4,
 "nbformat_minor": 4
}
